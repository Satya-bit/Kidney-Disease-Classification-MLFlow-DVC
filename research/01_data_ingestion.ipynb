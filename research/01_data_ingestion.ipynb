{
 "cells": [
  {
   "cell_type": "code",
   "execution_count": 1,
   "metadata": {},
   "outputs": [],
   "source": [
    "import os"
   ]
  },
  {
   "cell_type": "code",
   "execution_count": 2,
   "metadata": {},
   "outputs": [
    {
     "data": {
      "text/plain": [
       "'c:\\\\Users\\\\satya\\\\Documents\\\\data_science_roadmap\\\\Deep_Learning\\\\Project\\\\Kidney-Disease-Classification-MLFlow-DVC\\\\research'"
      ]
     },
     "execution_count": 2,
     "metadata": {},
     "output_type": "execute_result"
    }
   ],
   "source": [
    "%pwd"
   ]
  },
  {
   "cell_type": "code",
   "execution_count": 3,
   "metadata": {},
   "outputs": [],
   "source": [
    "os.chdir(\"../\")"
   ]
  },
  {
   "cell_type": "code",
   "execution_count": 4,
   "metadata": {},
   "outputs": [
    {
     "data": {
      "text/plain": [
       "'c:\\\\Users\\\\satya\\\\Documents\\\\data_science_roadmap\\\\Deep_Learning\\\\Project\\\\Kidney-Disease-Classification-MLFlow-DVC'"
      ]
     },
     "execution_count": 4,
     "metadata": {},
     "output_type": "execute_result"
    }
   ],
   "source": [
    "%pwd"
   ]
  },
  {
   "cell_type": "code",
   "execution_count": null,
   "metadata": {},
   "outputs": [],
   "source": [
    "#Entity is the return type of any function(say here data ingestion).\n",
    "from dataclasses import dataclass\n",
    "from pathlib import Path\n",
    "\n",
    "#Data class because no one can add any new variable. Also it throws error if the return type is not same as mentioned\n",
    "@dataclass(frozen=True) #To access this as class variable from other files we use dataclass(entity) and frozen= True means no one can add any new variable\n",
    "class DataIngestionConfig:\n",
    "    root_dir: Path\n",
    "    source_URL: str\n",
    "    local_data_file: Path\n",
    "    unzip_dir: Path"
   ]
  },
  {
   "cell_type": "code",
   "execution_count": 27,
   "metadata": {},
   "outputs": [],
   "source": [
    "from src.cnnClassifier.constants import *  #IMPORTING THE TWO CONSTANTS PATH OF CONFIG AND PARAMS FROM CONSTANTS\n",
    "\n",
    "from src.cnnClassifier.utils.common import read_yaml, create_directories #Importing from utils the common functions like read_yaml and creat_directories.\n"
   ]
  },
  {
   "cell_type": "code",
   "execution_count": null,
   "metadata": {},
   "outputs": [],
   "source": [
    "# Configuration manager - This is where the data ingestion paths are prepared using the config(template of artifacts) and entity files(ensuring the return types)\n",
    "class ConfigurationManager:\n",
    "    def __init__(\n",
    "        self,\n",
    "        config_filepath = CONFIG_FILE_PATH,\n",
    "        params_filepath = PARAMS_FILE_PATH):\n",
    "\n",
    "        self.config = read_yaml(config_filepath)\n",
    "        self.params = read_yaml(params_filepath)\n",
    "\n",
    "        create_directories([self.config.artifacts_root]) #Dot accessing can be done because of Configbox which is the return type of the read_yaml function\n",
    "        #This will retrurn artifacts the value of artifacts_root from config.yaml \n",
    "\n",
    "    def get_data_ingestion_config(self) -> DataIngestionConfig: #We have keep the return type as DataIngestionConfig so that the function does not return any other return type written in data_ingestion.\n",
    "        #For example it will only return the 4 things mentioned in the class. It will return error if anything passed except this because we have kept frozen = True\n",
    "        #Also remeber we have used the ensure annotation decorators, So what will it do that it will not allow any other return type.\n",
    "        #If let say the type of URL is str and if it is not str then it will give error. So be sure to check the datatype in config.yaml file and the types passed in entity.\n",
    "        config = self.config.data_ingestion\n",
    "\n",
    "        create_directories([config.root_dir])\n",
    "\n",
    "        data_ingestion_config = DataIngestionConfig(\n",
    "            root_dir=config.root_dir,\n",
    "            source_URL=config.source_URL,\n",
    "            local_data_file=config.local_data_file,\n",
    "            unzip_dir=config.unzip_dir \n",
    "        )\n",
    "        return data_ingestion_config\n"
   ]
  },
  {
   "cell_type": "code",
   "execution_count": null,
   "metadata": {},
   "outputs": [],
   "source": [
    "# Components- It is responsible for the actual data ingestion at the specified locations in artifacts. The main logic of the component goes here\n",
    "import os\n",
    "import zipfile\n",
    "import gdown\n",
    "from src.cnnClassifier.logging.logs import logger\n",
    "from src.cnnClassifier.utils.common import get_size"
   ]
  },
  {
   "cell_type": "code",
   "execution_count": 30,
   "metadata": {},
   "outputs": [],
   "source": [
    "class DataIngestion:\n",
    "    def __init__(self, config: DataIngestionConfig): #This comes from Configuration manager. \n",
    "        self.config = config #By this way we can access all the four variables of DataIngestionConfig\n",
    "\n",
    "\n",
    "    \n",
    "    def download_file(self)-> str:  # Downloading the data from google drive\n",
    "       '''\n",
    "       Fetch data from URL\n",
    "       '''\n",
    "       try:\n",
    "           dataset_url = self.config.source_URL\n",
    "           zip_download_dir= self.config.local_data_file\n",
    "           os.makedirs(\"artifacts/data_ingestion\", exist_ok=True)\n",
    "           logger.info(f\"Downloading data from {dataset_url} into file {zip_download_dir}\")\n",
    "           \n",
    "           file_id=dataset_url.split(\"/\")[-2]\n",
    "           prefix='https://drive.google.com/uc?export=download&id='\n",
    "           gdown.download(prefix+file_id,zip_download_dir) #Src and destination\n",
    "           logger.info(f\"Downloaded data from {dataset_url} into file {zip_download_dir}\")\n",
    "       except Exception as e:\n",
    "           raise e\n",
    "       \n",
    "    def extract_zip_file(self): #Extracting the zip file\n",
    "           \"\"\"\n",
    "           zip_file_path: str\n",
    "           Extracts the zip file into the data directory\n",
    "           Function returns None\n",
    "           \"\"\"\n",
    "           unzip_path = self.config.unzip_dir\n",
    "           os.makedirs(unzip_path, exist_ok=True)\n",
    "           with zipfile.ZipFile(self.config.local_data_file,'r') as zip_ref: #Take teh source path form local_data_file and unzips at the destination path unzip_path\n",
    "               zip_ref.extractall(unzip_path)\n",
    "       \n",
    "       \n",
    "           \n",
    "        "
   ]
  },
  {
   "cell_type": "code",
   "execution_count": 31,
   "metadata": {},
   "outputs": [
    {
     "name": "stdout",
     "output_type": "stream",
     "text": [
      "[2025-03-25 11:20:01,759: INFO: common: yaml file: config\\config.yaml loaded successfully]\n",
      "[2025-03-25 11:20:01,761: INFO: common: yaml file: params.yaml loaded successfully]\n",
      "[2025-03-25 11:20:01,762: INFO: common: created directory at: artifacts]\n",
      "[2025-03-25 11:20:01,764: INFO: common: created directory at: artifacts/data_ingestion]\n",
      "[2025-03-25 11:20:01,765: INFO: 1189576724: Downloading data from https://drive.google.com/file/d/1_K7AfIg4ynhyhrggex0QMBM3M6yjJS3C/view?usp=sharing into file artifacts/data_ingestion/data.zip]\n"
     ]
    },
    {
     "name": "stderr",
     "output_type": "stream",
     "text": [
      "Downloading...\n",
      "From (original): https://drive.google.com/uc?export=download&id=1_K7AfIg4ynhyhrggex0QMBM3M6yjJS3C\n",
      "From (redirected): https://drive.google.com/uc?export=download&id=1_K7AfIg4ynhyhrggex0QMBM3M6yjJS3C&confirm=t&uuid=0947f6e2-c93f-4359-bb9e-668c2b87553e\n",
      "To: c:\\Users\\satya\\Documents\\data_science_roadmap\\Deep_Learning\\Project\\Kidney-Disease-Classification-MLFlow-DVC\\artifacts\\data_ingestion\\data.zip\n",
      "100%|██████████| 687M/687M [00:25<00:00, 27.2MB/s] "
     ]
    },
    {
     "name": "stdout",
     "output_type": "stream",
     "text": [
      "[2025-03-25 11:20:30,858: INFO: 1189576724: Downloaded data from https://drive.google.com/file/d/1_K7AfIg4ynhyhrggex0QMBM3M6yjJS3C/view?usp=sharing into file artifacts/data_ingestion/data.zip]\n"
     ]
    },
    {
     "name": "stderr",
     "output_type": "stream",
     "text": [
      "\n"
     ]
    }
   ],
   "source": [
    "# Pipeline- To run the main functions of the components in order\n",
    "try:\n",
    "    config = ConfigurationManager() #Initializing the configuration manager class to get data ingestion config\n",
    "    data_ingestion_config = config.get_data_ingestion_config() #Getting the data ingestion config for preparing the data ingestion paths\n",
    "    data_ingestion = DataIngestion(config=data_ingestion_config) #Initializing the data ingestion class to access the data ingestion main functions\n",
    "    data_ingestion.download_file()\n",
    "    data_ingestion.extract_zip_file()\n",
    "except Exception as e:\n",
    "    raise e"
   ]
  }
 ],
 "metadata": {
  "kernelspec": {
   "display_name": "venv",
   "language": "python",
   "name": "python3"
  },
  "language_info": {
   "codemirror_mode": {
    "name": "ipython",
    "version": 3
   },
   "file_extension": ".py",
   "mimetype": "text/x-python",
   "name": "python",
   "nbconvert_exporter": "python",
   "pygments_lexer": "ipython3",
   "version": "3.12.0"
  }
 },
 "nbformat": 4,
 "nbformat_minor": 2
}
